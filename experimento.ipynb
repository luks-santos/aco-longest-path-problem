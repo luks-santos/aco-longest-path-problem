{
 "cells": [
  {
   "cell_type": "code",
   "execution_count": 1,
   "metadata": {},
   "outputs": [],
   "source": [
    "import pandas as pd\n",
    "import numpy as np\n",
    "import time\n",
    "import matplotlib.pyplot as plt"
   ]
  },
  {
   "cell_type": "code",
   "execution_count": 2,
   "metadata": {},
   "outputs": [],
   "source": [
    "def read_graph_data(filename):\n",
    "    df = pd.read_csv(filename, sep='\\t')\n",
    "    return df['origem'].to_numpy(), df['destino'].to_numpy(), df['custo'].to_numpy()"
   ]
  },
  {
   "cell_type": "code",
   "execution_count": 3,
   "metadata": {},
   "outputs": [],
   "source": [
    "base = \"C\"\n",
    "    \n",
    "graph_data = []\n",
    "initial_vertex, end_vertex = 0, 0\n",
    "\n",
    "if base == \"A\":\n",
    "    graph_data = read_graph_data('grafo1.csv')\n",
    "    initial_vertex = 1\n",
    "    end_vertex = 12\n",
    "    base_name = \"Graph B - 12 vertices and 25 edges\"\n",
    "\n",
    "elif base == \"B\":\n",
    "    graph_data = read_graph_data('grafo2.csv')\n",
    "    initial_vertex = 1\n",
    "    end_vertex = 20\n",
    "    base_name = \"Graph C - 20 vertices and 190 edges\"\n",
    "\n",
    "elif base == \"C\":\n",
    "    graph_data = read_graph_data('grafo3.csv')\n",
    "    initial_vertex = 1\n",
    "    end_vertex = 100\n",
    "    base_name = \"Graph D - 100 vertices and 8020 edges\"\n"
   ]
  },
  {
   "cell_type": "code",
   "execution_count": 4,
   "metadata": {},
   "outputs": [],
   "source": [
    "# Configs iniciais\n",
    "NUM_EXP = 30\n",
    "NUM_ANTS = 190\n",
    "NUM_ITERATIONS = 80\n",
    "INITIAL_PHEROMONE = 0.0001\n",
    "\n",
    "RHO = 0.6\n",
    "ALPHA = 0.7\n",
    "BETA = 1\n",
    "EXPLORATION = NUM_ANTS * 0.6"
   ]
  },
  {
   "cell_type": "code",
   "execution_count": 5,
   "metadata": {},
   "outputs": [],
   "source": [
    "sources, destinations, costs, initial_vertex, end_vertex = graph_data[0], graph_data[1], graph_data[2], initial_vertex, end_vertex\n",
    "\n",
    "path_exp = []\n",
    "cost_exp = []\n",
    "time_exp = []\n",
    "\n",
    "for _ in range(NUM_EXP):\n",
    "    \n",
    "    pheromones = np.full(len(sources), INITIAL_PHEROMONE, dtype=np.float64)\n",
    "    value_exploration = 0.1\n",
    "    \n",
    "    best_paths = []\n",
    "    best_path = []\n",
    "    best_path_costs = []\n",
    "    best_path_cost = 0\n",
    "    \n",
    "    start_time = time.time()\n",
    "    for it in range(NUM_ITERATIONS):\n",
    "       \n",
    "        distance_paths, index_paths = [], []\n",
    "        ant = 0\n",
    "        while ant < NUM_ANTS:\n",
    "            completed_path, invalid_path = False, False\n",
    "            current_vertex = initial_vertex\n",
    "    \n",
    "            ant_path, ant_path_index = [], []\n",
    "            ant_path_cost = 0\n",
    "    \n",
    "            while not completed_path:\n",
    "                ant_path.append(current_vertex)\n",
    "    \n",
    "                vertex_indices = np.where(sources == current_vertex)[0].tolist()\n",
    "                unvisited_vertices = [index for index in vertex_indices if destinations[index] not in ant_path]\n",
    "                vertex_indices = unvisited_vertices\n",
    "    \n",
    "                if len(vertex_indices) == 0:\n",
    "                    ant -= 1\n",
    "                    completed_path = True\n",
    "                    invalid_path = True\n",
    "                else:\n",
    "                    probabilities = (pheromones[vertex_indices] ** ALPHA) * (costs[vertex_indices] ** (BETA + value_exploration))\n",
    "                    probabilities /= sum(probabilities)\n",
    "    \n",
    "                    next_vertex_index = np.random.choice(vertex_indices, p=probabilities)\n",
    "    \n",
    "                    ant_path_cost += costs[next_vertex_index]\n",
    "                    ant_path_index.append(next_vertex_index)\n",
    "    \n",
    "                    current_vertex = destinations[next_vertex_index]\n",
    "                    if current_vertex == end_vertex:\n",
    "                        completed_path = True\n",
    "                        ant_path.append(current_vertex)\n",
    "    \n",
    "            if not invalid_path:\n",
    "                if ant_path_cost > best_path_cost:\n",
    "                    best_path_cost = ant_path_cost\n",
    "                    best_path = ant_path\n",
    "    \n",
    "                distance_paths.append(ant_path_cost)\n",
    "                index_paths.append(ant_path_index)\n",
    "    \n",
    "            ant += 1\n",
    "    \n",
    "        pheromones *= (1 - RHO)\n",
    "    \n",
    "        for i, index_path in enumerate(index_paths):\n",
    "            sum_phe = pheromones[index_path] + distance_paths[i]/1000\n",
    "    \n",
    "            pheromones[index_path] = sum_phe\n",
    "    \n",
    "            equal_path_count = index_paths.count(index_path)\n",
    "    \n",
    "            if equal_path_count >= EXPLORATION:\n",
    "                value_exploration = min(value_exploration * 2, 15)\n",
    "    \n",
    "    \n",
    "        \n",
    "        best_paths.append(best_path)\n",
    "        best_path_costs.append(best_path_cost)   \n",
    "        \n",
    "    end_time = time.time()\n",
    "\n",
    "    path_exp.append(best_paths)\n",
    "    cost_exp.append(best_path_costs)\n",
    "    time_exp.append([end_time - start_time])\n",
    "    "
   ]
  },
  {
   "cell_type": "code",
   "execution_count": 11,
   "metadata": {},
   "outputs": [
    {
     "data": {
      "text/plain": [
       "array([133.8       , 139.53333333, 142.86666667, 145.03333333,\n",
       "       147.26666667, 148.53333333, 150.43333333, 151.26666667,\n",
       "       153.43333333, 154.63333333, 154.63333333, 155.06666667,\n",
       "       155.23333333, 156.16666667, 156.4       , 156.4       ,\n",
       "       156.4       , 156.4       , 156.76666667, 157.03333333,\n",
       "       157.76666667, 158.13333333, 158.13333333, 158.53333333,\n",
       "       159.        , 159.3       , 159.56666667, 159.7       ,\n",
       "       160.1       , 160.5       , 160.73333333, 161.06666667,\n",
       "       161.33333333, 161.33333333, 161.4       , 161.66666667,\n",
       "       161.96666667, 162.1       , 162.1       , 162.53333333,\n",
       "       162.53333333, 162.53333333, 162.53333333, 162.56666667,\n",
       "       162.73333333, 162.73333333, 162.73333333, 162.86666667,\n",
       "       163.        , 163.03333333, 163.53333333, 163.53333333,\n",
       "       163.53333333, 163.6       , 163.6       , 163.6       ,\n",
       "       163.6       , 163.63333333, 163.63333333, 163.7       ,\n",
       "       163.93333333, 163.93333333, 164.03333333, 164.33333333,\n",
       "       164.5       , 164.5       , 164.5       , 164.7       ,\n",
       "       164.7       , 164.86666667, 164.86666667, 164.9       ,\n",
       "       164.9       , 164.9       , 165.03333333, 165.3       ,\n",
       "       165.33333333, 165.33333333, 165.33333333, 165.33333333])"
      ]
     },
     "execution_count": 11,
     "metadata": {},
     "output_type": "execute_result"
    }
   ],
   "source": [
    "np.mean(cost_exp, axis=0)"
   ]
  },
  {
   "cell_type": "code",
   "execution_count": 37,
   "metadata": {},
   "outputs": [
    {
     "data": {
      "image/png": "[encoded data removed]",
      "text/plain": [
       "<Figure size 400x400 with 1 Axes>"
      ]
     },
     "metadata": {},
     "output_type": "display_data"
    }
   ],
   "source": [
    "largura_figura = 4\n",
    "altura_figura = 4  \n",
    "\n",
    "plt.figure(figsize=(largura_figura, altura_figura))\n",
    "\n",
    "mean_cost = np.mean(cost_exp, axis=0)\n",
    "std_dev = np.std(cost_exp, axis=0)  # Calcula o desvio padrão\n",
    "\n",
    "plt.plot(mean_cost, label='Média do Custo')\n",
    "plt.fill_between(range(len(mean_cost)), mean_cost - std_dev, mean_cost + std_dev, color='lightcoral', alpha=0.2, label='Desvio Padrão')\n",
    "plt.xlabel('Iterações')\n",
    "plt.ylabel('Custo do Caminho')\n",
    "plt.title('Custo do Caminho ao Longo das Iterações')\n",
    "plt.legend()\n",
    "plt.grid(True)\n",
    "\n",
    "plt.text(len(mean_cost), np.max(mean_cost) - 5, f'Desvio Padrão: {std_dev[-1]:.2f}', fontsize=11, verticalalignment='top', horizontalalignment='right')\n",
    "plt.show()\n",
    "\n",
    "plt.show()"
   ]
  },
  {
   "cell_type": "code",
   "execution_count": 31,
   "metadata": {},
   "outputs": [
    {
     "name": "stdout",
     "output_type": "stream",
     "text": [
      "O índice onde o custo atingiu 168 é 27\n"
     ]
    }
   ],
   "source": [
    "max1 = []\n",
    "for i, cost in enumerate(cost_exp):\n",
    "    if 168 in cost:\n",
    "        max1.append(i)\n",
    "\n",
    "if max1:\n",
    "    max_index = max(max1)\n",
    "    print(f\"O índice onde o custo atingiu 168 é {max_index}\")"
   ]
  },
  {
   "cell_type": "code",
   "execution_count": 34,
   "metadata": {},
   "outputs": [
    {
     "data": {
      "text/plain": [
       "[1, 19, 15, 2, 10, 11, 4, 7, 13, 9, 8, 12, 17, 18, 16, 6, 5, 3, 14, 20]"
      ]
     },
     "execution_count": 34,
     "metadata": {},
     "output_type": "execute_result"
    }
   ],
   "source": [
    "path_exp[27][-1]"
   ]
  },
  {
   "cell_type": "code",
   "execution_count": 10,
   "metadata": {},
   "outputs": [
    {
     "name": "stdout",
     "output_type": "stream",
     "text": [
      "15.223593068122863\n",
      "1.9948965789441693\n",
      "14.684494256973267\n"
     ]
    }
   ],
   "source": [
    "print(np.mean(time_exp))\n",
    "print(np.std(time_exp))\n",
    "\n"
   ]
  }
 ],
 "metadata": {
  "kernelspec": {
   "display_name": "IA",
   "language": "python",
   "name": "python3"
  },
  "language_info": {
   "codemirror_mode": {
    "name": "ipython",
    "version": 3
   },
   "file_extension": ".py",
   "mimetype": "text/x-python",
   "name": "python",
   "nbconvert_exporter": "python",
   "pygments_lexer": "ipython3",
   "version": "3.10.11"
  },
  "orig_nbformat": 4
 },
 "nbformat": 4,
 "nbformat_minor": 2
}
